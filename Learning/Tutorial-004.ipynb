{
 "cells": [
  {
   "cell_type": "code",
   "execution_count": null,
   "metadata": {},
   "outputs": [],
   "source": [
    "! wget https://www.50languages.com/_1language/ENEN.ZIP\n",
    "! wget https://www.50languages.com/_1language/DEDE.ZIP\n",
    "! wget https://www.50languages.com/_1language/ESES.ZIP\n",
    "! wget https://www.50languages.com/_1language/FRFR.ZIP\n",
    "! wget https://www.50languages.com/_1language/ITIT.ZIP\n",
    "! wget https://www.50languages.com/_1language/VIVI.ZIP\n",
    "! wget https://www.50languages.com/_1language/ZHZH.ZIP"
   ]
  },
  {
   "cell_type": "code",
   "execution_count": null,
   "metadata": {},
   "outputs": [],
   "source": []
  }
 ],
 "metadata": {
  "kernelspec": {
   "display_name": "Python 3",
   "language": "python",
   "name": "python3"
  },
  "language_info": {
   "codemirror_mode": {
    "name": "ipython",
    "version": 3
   },
   "file_extension": ".py",
   "mimetype": "text/x-python",
   "name": "python",
   "nbconvert_exporter": "python",
   "pygments_lexer": "ipython3",
   "version": "3.6.7"
  }
 },
 "nbformat": 4,
 "nbformat_minor": 2
}
